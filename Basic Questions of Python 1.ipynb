{
 "cells": [
  {
   "cell_type": "markdown",
   "id": "c9464e14",
   "metadata": {},
   "source": [
    "1. Write a program that prints \"Hello, World!\" to the console"
   ]
  },
  {
   "cell_type": "code",
   "execution_count": 3,
   "id": "80bbefc5",
   "metadata": {},
   "outputs": [
    {
     "data": {
      "text/plain": [
       "'Hello,World!'"
      ]
     },
     "execution_count": 3,
     "metadata": {},
     "output_type": "execute_result"
    }
   ],
   "source": [
    "'Hello,World!'"
   ]
  },
  {
   "cell_type": "markdown",
   "id": "236747ab",
   "metadata": {},
   "source": [
    "**Variables and Data Types**"
   ]
  },
  {
   "cell_type": "markdown",
   "id": "51e99f95",
   "metadata": {},
   "source": [
    "Declare a variable named is_true and assign it a boolean value."
   ]
  },
  {
   "cell_type": "code",
   "execution_count": 13,
   "id": "3eafdf7e",
   "metadata": {},
   "outputs": [
    {
     "data": {
      "text/plain": [
       "bool"
      ]
     },
     "execution_count": 13,
     "metadata": {},
     "output_type": "execute_result"
    }
   ],
   "source": [
    "is_true=True\n",
    "type(is_true)"
   ]
  },
  {
   "cell_type": "markdown",
   "id": "3e9f7ef4",
   "metadata": {},
   "source": [
    "Create a variable named my_list and assign it a list of your favorite colors."
   ]
  },
  {
   "cell_type": "code",
   "execution_count": 15,
   "id": "40ceeac3",
   "metadata": {},
   "outputs": [
    {
     "data": {
      "text/plain": [
       "list"
      ]
     },
     "execution_count": 15,
     "metadata": {},
     "output_type": "execute_result"
    }
   ],
   "source": [
    "my_list = ['pink','orange','white','black']\n",
    "type(my_list) "
   ]
  },
  {
   "cell_type": "markdown",
   "id": "9d5d9c57",
   "metadata": {},
   "source": [
    "**Basic Operations**"
   ]
  },
  {
   "cell_type": "markdown",
   "id": "db882b90",
   "metadata": {},
   "source": [
    "Declare two variables, x and y, with values 10 and 3. Perform the following operations:\n",
    "Addition of x and y.\n",
    "Subtraction of y from x.\n",
    "Multiplication of x and y.\n",
    "Division of x by y.\n",
    "Exponentiation of x to the power of y."
   ]
  },
  {
   "cell_type": "code",
   "execution_count": 28,
   "id": "11fa2094",
   "metadata": {},
   "outputs": [
    {
     "name": "stdout",
     "output_type": "stream",
     "text": [
      "Addition of 10,3 =  13\n",
      "Subtraction of 3 from 10 =  7\n",
      "Multiplication of 10 and 3 =  30\n",
      "Division of 10 by 3 =  3.3333333333333335\n",
      "Exponentiation of 10 to the power of 3 =  1000\n"
     ]
    }
   ],
   "source": [
    "x=10\n",
    "y=3\n",
    "#Addition of x,y\n",
    "z=x+y\n",
    "print('Addition of 10,3 = ',z)\n",
    "#Subtraction of y from x\n",
    "c=x-y\n",
    "print('Subtraction of 3 from 10 = ',c)\n",
    "#Multiplication of x and y\n",
    "a=x*y\n",
    "print('Multiplication of 10 and 3 = ',a)\n",
    "#Division of x by y\n",
    "b=x/y\n",
    "print('Division of 10 by 3 = ',b)\n",
    "#Exponentiation of x to the power of y\n",
    "d=x**y\n",
    "print('Exponentiation of 10 to the power of 3 = ',d)\n"
   ]
  },
  {
   "cell_type": "markdown",
   "id": "b8bbd6cf",
   "metadata": {},
   "source": [
    "**User Input and Operations**"
   ]
  },
  {
   "cell_type": "markdown",
   "id": "d7328594",
   "metadata": {},
   "source": [
    "Take user input for two numbers and perform addition on them."
   ]
  },
  {
   "cell_type": "code",
   "execution_count": 31,
   "id": "5183ae7c",
   "metadata": {},
   "outputs": [
    {
     "name": "stdout",
     "output_type": "stream",
     "text": [
      "Enter first Number = 3\n",
      "Enter Second Number = 4\n",
      "3 + 4 = 7\n"
     ]
    }
   ],
   "source": [
    "a=int(input(\"Enter first Number = \"))\n",
    "b=int(input(\"Enter Second Number = \"))\n",
    "c=a+b\n",
    "print(f'{a} + {b} = {c}')"
   ]
  },
  {
   "cell_type": "markdown",
   "id": "9d2acec9",
   "metadata": {},
   "source": [
    "Take user input for a floating-point number and round it to the nearest integer."
   ]
  },
  {
   "cell_type": "code",
   "execution_count": 9,
   "id": "511cb690",
   "metadata": {},
   "outputs": [
    {
     "name": "stdout",
     "output_type": "stream",
     "text": [
      "Enter Floating-Point Number = 2.8\n",
      "Round of 2.8 is 3\n"
     ]
    }
   ],
   "source": [
    "a=input(\"Enter Floating-Point Number = \")\n",
    "a=float(a)\n",
    "round_of_a =round(a)\n",
    "print(f'Round of {a} is {round_of_a}')\n",
    "\n"
   ]
  },
  {
   "cell_type": "markdown",
   "id": "0a0832d2",
   "metadata": {},
   "source": [
    "**Type Conversion**"
   ]
  },
  {
   "cell_type": "markdown",
   "id": "695290d0",
   "metadata": {},
   "source": [
    "Convert the variable x (previously declared) to a string and print its type"
   ]
  },
  {
   "cell_type": "code",
   "execution_count": 13,
   "id": "7bcaf186",
   "metadata": {},
   "outputs": [
    {
     "data": {
      "text/plain": [
       "str"
      ]
     },
     "execution_count": 13,
     "metadata": {},
     "output_type": "execute_result"
    }
   ],
   "source": [
    "x=10\n",
    "converting_to_string = str(x)\n",
    "type(converting_to_string)"
   ]
  },
  {
   "cell_type": "markdown",
   "id": "f2c5e8ba",
   "metadata": {},
   "source": [
    "Convert the string \"25\" to an integer and print its type."
   ]
  },
  {
   "cell_type": "code",
   "execution_count": 15,
   "id": "5f330f4e",
   "metadata": {},
   "outputs": [
    {
     "data": {
      "text/plain": [
       "int"
      ]
     },
     "execution_count": 15,
     "metadata": {},
     "output_type": "execute_result"
    }
   ],
   "source": [
    "string=\"25\"\n",
    "converting_to_int = int(string)\n",
    "type(converting_to_int)"
   ]
  },
  {
   "cell_type": "markdown",
   "id": "75990688",
   "metadata": {},
   "source": [
    "Convert the float pi to an integer."
   ]
  },
  {
   "cell_type": "code",
   "execution_count": 18,
   "id": "6e57636b",
   "metadata": {},
   "outputs": [
    {
     "data": {
      "text/plain": [
       "int"
      ]
     },
     "execution_count": 18,
     "metadata": {},
     "output_type": "execute_result"
    }
   ],
   "source": [
    "pi=2.4\n",
    "converting_to_int = int(pi)\n",
    "type(converting_to_int)"
   ]
  },
  {
   "cell_type": "markdown",
   "id": "8bef2cdf",
   "metadata": {},
   "source": [
    "**Combining Strings**"
   ]
  },
  {
   "cell_type": "markdown",
   "id": "a3163989",
   "metadata": {},
   "source": [
    "Declare two string variables, first_name and last_name, and concatenate them to form a full name."
   ]
  },
  {
   "cell_type": "code",
   "execution_count": 27,
   "id": "bfe1d3ef",
   "metadata": {},
   "outputs": [
    {
     "name": "stdout",
     "output_type": "stream",
     "text": [
      "First Name : Milyani\n",
      "Last Name : Patil\n",
      "Full Name :  Milyani Patil\n"
     ]
    }
   ],
   "source": [
    "first_name=input(\"First Name : \")\n",
    "last_name=input(\"Last Name : \")\n",
    "Full_Name=first_name+' '+last_name\n",
    "print(\"Full Name : \",Full_Name)"
   ]
  },
  {
   "cell_type": "markdown",
   "id": "c4129c20",
   "metadata": {},
   "source": [
    "Create a string that includes a variable in the middle of a sentence (e.g., \"I am {} years old\")."
   ]
  },
  {
   "cell_type": "code",
   "execution_count": 29,
   "id": "120e98ff",
   "metadata": {},
   "outputs": [
    {
     "name": "stdout",
     "output_type": "stream",
     "text": [
      "Enter Your Name : milyani\n",
      "My Name is milyani\n"
     ]
    }
   ],
   "source": [
    "a=input(\"Enter Your Name : \")\n",
    "print(f'My Name is {a}')"
   ]
  },
  {
   "cell_type": "markdown",
   "id": "40ca5657",
   "metadata": {},
   "source": [
    "**Increment and Decrement**"
   ]
  },
  {
   "cell_type": "markdown",
   "id": "cda5dbb1",
   "metadata": {},
   "source": [
    "1.Declare a variable count and initialize it to 0.\n",
    "\n",
    "2.Increment the value of count by 1.\n",
    "\n",
    "3.Decrement the value of count by 2."
   ]
  },
  {
   "cell_type": "code",
   "execution_count": 31,
   "id": "c13a1ca4",
   "metadata": {},
   "outputs": [
    {
     "name": "stdout",
     "output_type": "stream",
     "text": [
      "-1\n"
     ]
    }
   ],
   "source": [
    "count=0\n",
    "count+=1\n",
    "count-=2\n",
    "print(count)"
   ]
  },
  {
   "cell_type": "markdown",
   "id": "c7695dfb",
   "metadata": {},
   "source": [
    "**Math Module**"
   ]
  },
  {
   "cell_type": "markdown",
   "id": "3f7efa16",
   "metadata": {},
   "source": [
    "Import the math module."
   ]
  },
  {
   "cell_type": "code",
   "execution_count": 32,
   "id": "8832cb65",
   "metadata": {},
   "outputs": [],
   "source": [
    "import math"
   ]
  },
  {
   "cell_type": "markdown",
   "id": "6f21b55b",
   "metadata": {},
   "source": [
    "Use the math.sqrt() function to find the square root of a number."
   ]
  },
  {
   "cell_type": "code",
   "execution_count": 35,
   "id": "c518e51c",
   "metadata": {},
   "outputs": [
    {
     "name": "stdout",
     "output_type": "stream",
     "text": [
      "Enter Number for square root = 9\n",
      "Square root of given number is 3.0\n"
     ]
    }
   ],
   "source": [
    "Number=int(input(\"Enter Number for square root = \"))\n",
    "square_root=math.sqrt(Number)\n",
    "print(f'Square root of given number is {square_root}')\n",
    "    \n",
    "    "
   ]
  },
  {
   "cell_type": "markdown",
   "id": "6970d749",
   "metadata": {},
   "source": [
    "**Comparisons**"
   ]
  },
  {
   "cell_type": "markdown",
   "id": "17505a8e",
   "metadata": {},
   "source": [
    "Compare two variables and print whether they are equal."
   ]
  },
  {
   "cell_type": "code",
   "execution_count": 38,
   "id": "f353a088",
   "metadata": {},
   "outputs": [
    {
     "name": "stdout",
     "output_type": "stream",
     "text": [
      "Both Variables as same\n"
     ]
    }
   ],
   "source": [
    "a=10\n",
    "b=10\n",
    "if a==b:\n",
    "    print(\"Both Variables as same\")\n",
    "else:\n",
    "    print(\"Different Variables\")\n",
    "    \n"
   ]
  },
  {
   "cell_type": "markdown",
   "id": "e4272655",
   "metadata": {},
   "source": [
    "Compare two variables and print whether one is greater than the other."
   ]
  },
  {
   "cell_type": "code",
   "execution_count": 41,
   "id": "02e346e4",
   "metadata": {},
   "outputs": [
    {
     "name": "stdout",
     "output_type": "stream",
     "text": [
      "Enter First Number = 10\n",
      "Enter second Number = 20\n",
      "10 is less than 20\n"
     ]
    }
   ],
   "source": [
    "a=int(input('Enter First Number = '))\n",
    "b=int(input('Enter second Number = '))\n",
    "if a>b:\n",
    "    print(f'{a} is greater than {b}')\n",
    "else:\n",
    "    print(f'{a} is less than {b}')\n",
    "\n"
   ]
  },
  {
   "cell_type": "markdown",
   "id": "0447dbbb",
   "metadata": {},
   "source": [
    "**Compound Assignment Operators**"
   ]
  },
  {
   "cell_type": "markdown",
   "id": "4a9f83d5",
   "metadata": {},
   "source": [
    "Use compound assignment operators to increment a variable by 5 and then multiply it by 2."
   ]
  },
  {
   "cell_type": "code",
   "execution_count": 43,
   "id": "5e9ddcb3",
   "metadata": {},
   "outputs": [
    {
     "data": {
      "text/plain": [
       "14"
      ]
     },
     "execution_count": 43,
     "metadata": {},
     "output_type": "execute_result"
    }
   ],
   "source": [
    "num=2\n",
    "num+=5\n",
    "b=num*2\n",
    "b"
   ]
  },
  {
   "cell_type": "code",
   "execution_count": null,
   "id": "01974da9",
   "metadata": {},
   "outputs": [],
   "source": []
  }
 ],
 "metadata": {
  "kernelspec": {
   "display_name": "Python 3 (ipykernel)",
   "language": "python",
   "name": "python3"
  },
  "language_info": {
   "codemirror_mode": {
    "name": "ipython",
    "version": 3
   },
   "file_extension": ".py",
   "mimetype": "text/x-python",
   "name": "python",
   "nbconvert_exporter": "python",
   "pygments_lexer": "ipython3",
   "version": "3.11.5"
  }
 },
 "nbformat": 4,
 "nbformat_minor": 5
}
